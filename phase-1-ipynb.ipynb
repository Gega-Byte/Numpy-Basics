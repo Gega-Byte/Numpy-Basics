{
 "cells": [
  {
   "cell_type": "markdown",
   "id": "57019861",
   "metadata": {
    "papermill": {
     "duration": 0.004156,
     "end_time": "2025-06-12T10:56:10.513160",
     "exception": false,
     "start_time": "2025-06-12T10:56:10.509004",
     "status": "completed"
    },
    "tags": []
   },
   "source": [
    "## Numpy array and basics\n",
    "Learn about numpy with chai aur code"
   ]
  },
  {
   "cell_type": "code",
   "execution_count": 1,
   "id": "f7aad877",
   "metadata": {
    "execution": {
     "iopub.execute_input": "2025-06-12T10:56:10.521370Z",
     "iopub.status.busy": "2025-06-12T10:56:10.521050Z",
     "iopub.status.idle": "2025-06-12T10:56:10.528517Z",
     "shell.execute_reply": "2025-06-12T10:56:10.527703Z"
    },
    "papermill": {
     "duration": 0.013412,
     "end_time": "2025-06-12T10:56:10.530064",
     "exception": false,
     "start_time": "2025-06-12T10:56:10.516652",
     "status": "completed"
    },
    "tags": []
   },
   "outputs": [],
   "source": [
    "import numpy as np"
   ]
  },
  {
   "cell_type": "markdown",
   "id": "8c52d08b",
   "metadata": {
    "papermill": {
     "duration": 0.003053,
     "end_time": "2025-06-12T10:56:10.536653",
     "exception": false,
     "start_time": "2025-06-12T10:56:10.533600",
     "status": "completed"
    },
    "tags": []
   },
   "source": [
    "### creating array from list"
   ]
  },
  {
   "cell_type": "code",
   "execution_count": 2,
   "id": "cb6e4fcf",
   "metadata": {
    "execution": {
     "iopub.execute_input": "2025-06-12T10:56:10.544571Z",
     "iopub.status.busy": "2025-06-12T10:56:10.544232Z",
     "iopub.status.idle": "2025-06-12T10:56:10.551624Z",
     "shell.execute_reply": "2025-06-12T10:56:10.550608Z"
    },
    "papermill": {
     "duration": 0.013134,
     "end_time": "2025-06-12T10:56:10.553106",
     "exception": false,
     "start_time": "2025-06-12T10:56:10.539972",
     "status": "completed"
    },
    "tags": []
   },
   "outputs": [
    {
     "name": "stdout",
     "output_type": "stream",
     "text": [
      "1D Array: [1 2 3 4 5]\n"
     ]
    }
   ],
   "source": [
    "arr_1d = np.array([1, 2, 3, 4, 5])\n",
    "print(\"1D Array:\", arr_1d)"
   ]
  },
  {
   "cell_type": "code",
   "execution_count": 3,
   "id": "256f2144",
   "metadata": {
    "execution": {
     "iopub.execute_input": "2025-06-12T10:56:10.561291Z",
     "iopub.status.busy": "2025-06-12T10:56:10.560988Z",
     "iopub.status.idle": "2025-06-12T10:56:10.566427Z",
     "shell.execute_reply": "2025-06-12T10:56:10.565451Z"
    },
    "papermill": {
     "duration": 0.011249,
     "end_time": "2025-06-12T10:56:10.567936",
     "exception": false,
     "start_time": "2025-06-12T10:56:10.556687",
     "status": "completed"
    },
    "tags": []
   },
   "outputs": [
    {
     "name": "stdout",
     "output_type": "stream",
     "text": [
      "2D Array: [[1 2 3]\n",
      " [4 5 6]]\n"
     ]
    }
   ],
   "source": [
    "arr_2d = np.array([[1, 2, 3], [4, 5, 6]])\n",
    "print(\"2D Array:\", arr_2d)"
   ]
  },
  {
   "cell_type": "markdown",
   "id": "13f1b323",
   "metadata": {
    "papermill": {
     "duration": 0.003377,
     "end_time": "2025-06-12T10:56:10.574821",
     "exception": false,
     "start_time": "2025-06-12T10:56:10.571444",
     "status": "completed"
    },
    "tags": []
   },
   "source": [
    "numpy optimised hi isliy hai kyoki vo similar data-types par work karta hai"
   ]
  },
  {
   "cell_type": "markdown",
   "id": "44d6b56a",
   "metadata": {
    "papermill": {
     "duration": 0.003017,
     "end_time": "2025-06-12T10:56:10.581280",
     "exception": false,
     "start_time": "2025-06-12T10:56:10.578263",
     "status": "completed"
    },
    "tags": []
   },
   "source": [
    "### List vs numpy array"
   ]
  },
  {
   "cell_type": "code",
   "execution_count": 4,
   "id": "ba5cc4d9",
   "metadata": {
    "execution": {
     "iopub.execute_input": "2025-06-12T10:56:10.589701Z",
     "iopub.status.busy": "2025-06-12T10:56:10.588751Z",
     "iopub.status.idle": "2025-06-12T10:56:10.593844Z",
     "shell.execute_reply": "2025-06-12T10:56:10.593016Z"
    },
    "papermill": {
     "duration": 0.010632,
     "end_time": "2025-06-12T10:56:10.595141",
     "exception": false,
     "start_time": "2025-06-12T10:56:10.584509",
     "status": "completed"
    },
    "tags": []
   },
   "outputs": [
    {
     "name": "stdout",
     "output_type": "stream",
     "text": [
      "Python list Multiplication [1, 2, 3, 1, 2, 3]\n"
     ]
    }
   ],
   "source": [
    "py_list = [1, 2, 3]\n",
    "print(\"Python list Multiplication\", py_list*2)"
   ]
  },
  {
   "cell_type": "code",
   "execution_count": 5,
   "id": "a4317433",
   "metadata": {
    "execution": {
     "iopub.execute_input": "2025-06-12T10:56:10.603148Z",
     "iopub.status.busy": "2025-06-12T10:56:10.602832Z",
     "iopub.status.idle": "2025-06-12T10:56:10.609835Z",
     "shell.execute_reply": "2025-06-12T10:56:10.608720Z"
    },
    "papermill": {
     "duration": 0.012861,
     "end_time": "2025-06-12T10:56:10.611538",
     "exception": false,
     "start_time": "2025-06-12T10:56:10.598677",
     "status": "completed"
    },
    "tags": []
   },
   "outputs": [
    {
     "name": "stdout",
     "output_type": "stream",
     "text": [
      "Pyhton Array Multiplication [2 4 6]\n"
     ]
    }
   ],
   "source": [
    "np_array = np.array([1, 2, 3]) #here element wise multiplication happen\n",
    "print(\"Pyhton Array Multiplication\", np_array*2)"
   ]
  },
  {
   "cell_type": "code",
   "execution_count": 6,
   "id": "11ba010b",
   "metadata": {
    "execution": {
     "iopub.execute_input": "2025-06-12T10:56:10.619990Z",
     "iopub.status.busy": "2025-06-12T10:56:10.619674Z",
     "iopub.status.idle": "2025-06-12T10:56:10.710422Z",
     "shell.execute_reply": "2025-06-12T10:56:10.709566Z"
    },
    "papermill": {
     "duration": 0.096706,
     "end_time": "2025-06-12T10:56:10.711857",
     "exception": false,
     "start_time": "2025-06-12T10:56:10.615151",
     "status": "completed"
    },
    "tags": []
   },
   "outputs": [
    {
     "name": "stdout",
     "output_type": "stream",
     "text": [
      "Python list Multiplication [1, 2, 3, 1, 2, 3]\n",
      "Pyhton Array Multiplication [2 4 6]\n",
      "\n",
      " List operation time: 0.07642960548400879\n",
      "\n",
      " Numpy operation time: 0.007967472076416016\n"
     ]
    }
   ],
   "source": [
    "py_list = [1, 2, 3]\n",
    "print(\"Python list Multiplication\", py_list*2)\n",
    "\n",
    "\n",
    "np_array = np.array([1, 2, 3]) #here element wise multiplication happen\n",
    "print(\"Pyhton Array Multiplication\", np_array*2)\n",
    "\n",
    "\n",
    "\n",
    "import time \n",
    "start = time.time()\n",
    "py_list = [i*2 for i in range (1000000)]\n",
    "print(\"\\n List operation time:\", time.time() - start)\n",
    "\n",
    "start = time.time()\n",
    "np_array = np.arange(1000000) * 2\n",
    "print(\"\\n Numpy operation time:\", time.time() - start)"
   ]
  },
  {
   "cell_type": "markdown",
   "id": "c515c1a1",
   "metadata": {
    "papermill": {
     "duration": 0.003256,
     "end_time": "2025-06-12T10:56:10.718775",
     "exception": false,
     "start_time": "2025-06-12T10:56:10.715519",
     "status": "completed"
    },
    "tags": []
   },
   "source": [
    "### Creating Array from Scratch"
   ]
  },
  {
   "cell_type": "code",
   "execution_count": 7,
   "id": "5ac699ab",
   "metadata": {
    "execution": {
     "iopub.execute_input": "2025-06-12T10:56:10.727110Z",
     "iopub.status.busy": "2025-06-12T10:56:10.726433Z",
     "iopub.status.idle": "2025-06-12T10:56:10.732711Z",
     "shell.execute_reply": "2025-06-12T10:56:10.731866Z"
    },
    "papermill": {
     "duration": 0.011955,
     "end_time": "2025-06-12T10:56:10.734148",
     "exception": false,
     "start_time": "2025-06-12T10:56:10.722193",
     "status": "completed"
    },
    "tags": []
   },
   "outputs": [
    {
     "name": "stdout",
     "output_type": "stream",
     "text": [
      "zeros array: \n",
      " [[0. 0. 0. 0.]\n",
      " [0. 0. 0. 0.]\n",
      " [0. 0. 0. 0.]]\n",
      "ones array: \n",
      " [[1. 1. 1.]\n",
      " [1. 1. 1.]]\n",
      "full array: \n",
      " [[7 7]\n",
      " [7 7]]\n",
      "random array: \n",
      " [[0.43110738 0.52969858 0.62831691]\n",
      " [0.33705201 0.84481843 0.47741996]]\n"
     ]
    }
   ],
   "source": [
    "zeros = np.zeros((3,4))\n",
    "print(\"zeros array: \\n\", zeros)\n",
    "\n",
    "ones = np.ones((2,3))\n",
    "print(\"ones array: \\n\", ones)\n",
    "\n",
    "full = np.full((2, 2), 7)\n",
    "print(\"full array: \\n\", full)\n",
    "\n",
    "random = np.random.random((2,3))\n",
    "print(\"random array: \\n\", random)\n"
   ]
  },
  {
   "cell_type": "code",
   "execution_count": 8,
   "id": "f89e9340",
   "metadata": {
    "execution": {
     "iopub.execute_input": "2025-06-12T10:56:10.742573Z",
     "iopub.status.busy": "2025-06-12T10:56:10.742257Z",
     "iopub.status.idle": "2025-06-12T10:56:10.747184Z",
     "shell.execute_reply": "2025-06-12T10:56:10.746313Z"
    },
    "papermill": {
     "duration": 0.010634,
     "end_time": "2025-06-12T10:56:10.748524",
     "exception": false,
     "start_time": "2025-06-12T10:56:10.737890",
     "status": "completed"
    },
    "tags": []
   },
   "outputs": [
    {
     "name": "stdout",
     "output_type": "stream",
     "text": [
      "sequence array: \n",
      " [0 2 4 6 8]\n"
     ]
    }
   ],
   "source": [
    "sequence = np.arange(0, 10, 2)\n",
    "print(\"sequence array: \\n\", sequence)"
   ]
  },
  {
   "cell_type": "markdown",
   "id": "d9ce47e5",
   "metadata": {
    "papermill": {
     "duration": 0.003327,
     "end_time": "2025-06-12T10:56:10.755512",
     "exception": false,
     "start_time": "2025-06-12T10:56:10.752185",
     "status": "completed"
    },
    "tags": []
   },
   "source": [
    "### Vector, Matrix and Tensor"
   ]
  },
  {
   "cell_type": "code",
   "execution_count": 9,
   "id": "c53bcf9d",
   "metadata": {
    "execution": {
     "iopub.execute_input": "2025-06-12T10:56:10.763505Z",
     "iopub.status.busy": "2025-06-12T10:56:10.763208Z",
     "iopub.status.idle": "2025-06-12T10:56:10.769676Z",
     "shell.execute_reply": "2025-06-12T10:56:10.768737Z"
    },
    "papermill": {
     "duration": 0.012166,
     "end_time": "2025-06-12T10:56:10.771093",
     "exception": false,
     "start_time": "2025-06-12T10:56:10.758927",
     "status": "completed"
    },
    "tags": []
   },
   "outputs": [
    {
     "name": "stdout",
     "output_type": "stream",
     "text": [
      "Vector: \n",
      " [1 2 3]\n",
      "Matrix: \n",
      " [[1 2 3]\n",
      " [4 5 6]]\n",
      "Tensor: \n",
      " [[[1 2]\n",
      "  [3 4]]\n",
      "\n",
      " [[5 6]\n",
      "  [7 8]]]\n"
     ]
    }
   ],
   "source": [
    "vector = np.array([1, 2, 3])\n",
    "print(\"Vector: \\n\", vector)\n",
    "\n",
    "\n",
    "\n",
    "matrix = np.array([[1, 2, 3],\n",
    "                  [4, 5, 6]])\n",
    "print(\"Matrix: \\n\", matrix)\n",
    "\n",
    "\n",
    "tensor =np.array([[[1, 2],[3, 4]],\n",
    "                 [[5, 6], [7,8]]])\n",
    "print(\"Tensor: \\n\", tensor)\n",
    "\n"
   ]
  },
  {
   "cell_type": "markdown",
   "id": "6394886a",
   "metadata": {
    "papermill": {
     "duration": 0.003401,
     "end_time": "2025-06-12T10:56:10.778425",
     "exception": false,
     "start_time": "2025-06-12T10:56:10.775024",
     "status": "completed"
    },
    "tags": []
   },
   "source": [
    "### Array Properties"
   ]
  },
  {
   "cell_type": "code",
   "execution_count": 10,
   "id": "467f200f",
   "metadata": {
    "execution": {
     "iopub.execute_input": "2025-06-12T10:56:10.786668Z",
     "iopub.status.busy": "2025-06-12T10:56:10.786388Z",
     "iopub.status.idle": "2025-06-12T10:56:10.791543Z",
     "shell.execute_reply": "2025-06-12T10:56:10.790558Z"
    },
    "papermill": {
     "duration": 0.011219,
     "end_time": "2025-06-12T10:56:10.793183",
     "exception": false,
     "start_time": "2025-06-12T10:56:10.781964",
     "status": "completed"
    },
    "tags": []
   },
   "outputs": [
    {
     "name": "stdout",
     "output_type": "stream",
     "text": [
      "Shape: \n",
      " (2, 3)\n",
      "Dimention: \n",
      " 2\n",
      "Size: \n",
      " 6\n",
      "DType \n",
      " int64\n"
     ]
    }
   ],
   "source": [
    "arr = np.array([[1, 2, 3],\n",
    "               [4, 5, 6]])\n",
    "print(\"Shape: \\n\", arr.shape)\n",
    "print(\"Dimention: \\n\", arr.ndim)\n",
    "print(\"Size: \\n\", arr.size)\n",
    "print(\"DType \\n\", arr.dtype)\n"
   ]
  },
  {
   "cell_type": "markdown",
   "id": "52439a21",
   "metadata": {
    "papermill": {
     "duration": 0.003482,
     "end_time": "2025-06-12T10:56:10.800599",
     "exception": false,
     "start_time": "2025-06-12T10:56:10.797117",
     "status": "completed"
    },
    "tags": []
   },
   "source": [
    "### Array Reshaping"
   ]
  },
  {
   "cell_type": "code",
   "execution_count": 11,
   "id": "fb9a3548",
   "metadata": {
    "execution": {
     "iopub.execute_input": "2025-06-12T10:56:10.810129Z",
     "iopub.status.busy": "2025-06-12T10:56:10.809774Z",
     "iopub.status.idle": "2025-06-12T10:56:10.817166Z",
     "shell.execute_reply": "2025-06-12T10:56:10.815865Z"
    },
    "papermill": {
     "duration": 0.01371,
     "end_time": "2025-06-12T10:56:10.818677",
     "exception": false,
     "start_time": "2025-06-12T10:56:10.804967",
     "status": "completed"
    },
    "tags": []
   },
   "outputs": [
    {
     "name": "stdout",
     "output_type": "stream",
     "text": [
      "Original Array  [ 0  1  2  3  4  5  6  7  8  9 10 11]\n",
      "\n",
      " Reshaped Array  [[ 0  1  2  3]\n",
      " [ 4  5  6  7]\n",
      " [ 8  9 10 11]]\n",
      "\n",
      " Flattened Array  [ 0  1  2  3  4  5  6  7  8  9 10 11]\n",
      "Reveled Array  [ 0  1  2  3  4  5  6  7  8  9 10 11]\n",
      "Transposed Array  [[ 0  4  8]\n",
      " [ 1  5  9]\n",
      " [ 2  6 10]\n",
      " [ 3  7 11]]\n"
     ]
    }
   ],
   "source": [
    "arr = np.arange(12)\n",
    "print(\"Original Array \", arr)\n",
    "\n",
    "reshaped = arr.reshape((3, 4))\n",
    "print(\"\\n Reshaped Array \", reshaped)\n",
    "\n",
    "flattend = reshaped.flatten()\n",
    "print(\"\\n Flattened Array \", flattend)\n",
    "\n",
    "\n",
    "# ravel (returns vies, instead of copy)\n",
    "\n",
    "\n",
    "raveled = reshaped.ravel()\n",
    "print(\"Reveled Array \", raveled)\n",
    "\n",
    "\n",
    "#transpose\n",
    "transpose = reshaped.T\n",
    "print(\"Transposed Array \", transpose)"
   ]
  }
 ],
 "metadata": {
  "kaggle": {
   "accelerator": "none",
   "dataSources": [],
   "dockerImageVersionId": 31040,
   "isGpuEnabled": false,
   "isInternetEnabled": true,
   "language": "python",
   "sourceType": "notebook"
  },
  "kernelspec": {
   "display_name": "Python 3",
   "language": "python",
   "name": "python3"
  },
  "language_info": {
   "codemirror_mode": {
    "name": "ipython",
    "version": 3
   },
   "file_extension": ".py",
   "mimetype": "text/x-python",
   "name": "python",
   "nbconvert_exporter": "python",
   "pygments_lexer": "ipython3",
   "version": "3.11.11"
  },
  "papermill": {
   "default_parameters": {},
   "duration": 5.557584,
   "end_time": "2025-06-12T10:56:11.242786",
   "environment_variables": {},
   "exception": null,
   "input_path": "__notebook__.ipynb",
   "output_path": "__notebook__.ipynb",
   "parameters": {},
   "start_time": "2025-06-12T10:56:05.685202",
   "version": "2.6.0"
  }
 },
 "nbformat": 4,
 "nbformat_minor": 5
}
