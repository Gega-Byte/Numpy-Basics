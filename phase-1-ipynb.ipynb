{
 "cells": [
  {
   "cell_type": "markdown",
   "id": "a315014f",
   "metadata": {
    "papermill": {
     "duration": 0.003465,
     "end_time": "2025-06-12T10:30:08.136143",
     "exception": false,
     "start_time": "2025-06-12T10:30:08.132678",
     "status": "completed"
    },
    "tags": []
   },
   "source": [
    "## Numpy array and basics\n",
    "Learn about numpy with chai aur code"
   ]
  },
  {
   "cell_type": "code",
   "execution_count": 1,
   "id": "be5652ee",
   "metadata": {
    "execution": {
     "iopub.execute_input": "2025-06-12T10:30:08.143653Z",
     "iopub.status.busy": "2025-06-12T10:30:08.143287Z",
     "iopub.status.idle": "2025-06-12T10:30:08.151130Z",
     "shell.execute_reply": "2025-06-12T10:30:08.150155Z"
    },
    "papermill": {
     "duration": 0.013313,
     "end_time": "2025-06-12T10:30:08.152710",
     "exception": false,
     "start_time": "2025-06-12T10:30:08.139397",
     "status": "completed"
    },
    "tags": []
   },
   "outputs": [],
   "source": [
    "import numpy as np"
   ]
  },
  {
   "cell_type": "markdown",
   "id": "31b00041",
   "metadata": {
    "papermill": {
     "duration": 0.002688,
     "end_time": "2025-06-12T10:30:08.158557",
     "exception": false,
     "start_time": "2025-06-12T10:30:08.155869",
     "status": "completed"
    },
    "tags": []
   },
   "source": [
    "### creating array from list"
   ]
  },
  {
   "cell_type": "code",
   "execution_count": 2,
   "id": "e92303be",
   "metadata": {
    "execution": {
     "iopub.execute_input": "2025-06-12T10:30:08.165746Z",
     "iopub.status.busy": "2025-06-12T10:30:08.165409Z",
     "iopub.status.idle": "2025-06-12T10:30:08.172815Z",
     "shell.execute_reply": "2025-06-12T10:30:08.171850Z"
    },
    "papermill": {
     "duration": 0.012779,
     "end_time": "2025-06-12T10:30:08.174285",
     "exception": false,
     "start_time": "2025-06-12T10:30:08.161506",
     "status": "completed"
    },
    "tags": []
   },
   "outputs": [
    {
     "name": "stdout",
     "output_type": "stream",
     "text": [
      "1D Array: [1 2 3 4 5]\n"
     ]
    }
   ],
   "source": [
    "arr_1d = np.array([1, 2, 3, 4, 5])\n",
    "print(\"1D Array:\", arr_1d)"
   ]
  },
  {
   "cell_type": "code",
   "execution_count": 3,
   "id": "87e9d9ce",
   "metadata": {
    "execution": {
     "iopub.execute_input": "2025-06-12T10:30:08.181893Z",
     "iopub.status.busy": "2025-06-12T10:30:08.181579Z",
     "iopub.status.idle": "2025-06-12T10:30:08.187444Z",
     "shell.execute_reply": "2025-06-12T10:30:08.186372Z"
    },
    "papermill": {
     "duration": 0.011397,
     "end_time": "2025-06-12T10:30:08.188939",
     "exception": false,
     "start_time": "2025-06-12T10:30:08.177542",
     "status": "completed"
    },
    "tags": []
   },
   "outputs": [
    {
     "name": "stdout",
     "output_type": "stream",
     "text": [
      "2D Array: [[1 2 3]\n",
      " [4 5 6]]\n"
     ]
    }
   ],
   "source": [
    "arr_2d = np.array([[1, 2, 3], [4, 5, 6]])\n",
    "print(\"2D Array:\", arr_2d)"
   ]
  },
  {
   "cell_type": "markdown",
   "id": "97793e95",
   "metadata": {
    "papermill": {
     "duration": 0.00302,
     "end_time": "2025-06-12T10:30:08.195236",
     "exception": false,
     "start_time": "2025-06-12T10:30:08.192216",
     "status": "completed"
    },
    "tags": []
   },
   "source": [
    "numpy optimised hi isliy hai kyoki vo similar data-types par work karta hai"
   ]
  },
  {
   "cell_type": "markdown",
   "id": "0fac1293",
   "metadata": {
    "papermill": {
     "duration": 0.002799,
     "end_time": "2025-06-12T10:30:08.201219",
     "exception": false,
     "start_time": "2025-06-12T10:30:08.198420",
     "status": "completed"
    },
    "tags": []
   },
   "source": [
    "### List vs numpy array"
   ]
  },
  {
   "cell_type": "code",
   "execution_count": 4,
   "id": "9569fafd",
   "metadata": {
    "execution": {
     "iopub.execute_input": "2025-06-12T10:30:08.208762Z",
     "iopub.status.busy": "2025-06-12T10:30:08.208464Z",
     "iopub.status.idle": "2025-06-12T10:30:08.213621Z",
     "shell.execute_reply": "2025-06-12T10:30:08.212415Z"
    },
    "papermill": {
     "duration": 0.010906,
     "end_time": "2025-06-12T10:30:08.215168",
     "exception": false,
     "start_time": "2025-06-12T10:30:08.204262",
     "status": "completed"
    },
    "tags": []
   },
   "outputs": [
    {
     "name": "stdout",
     "output_type": "stream",
     "text": [
      "Python list Multiplication [1, 2, 3, 1, 2, 3]\n"
     ]
    }
   ],
   "source": [
    "py_list = [1, 2, 3]\n",
    "print(\"Python list Multiplication\", py_list*2)"
   ]
  },
  {
   "cell_type": "code",
   "execution_count": 5,
   "id": "9a6460cb",
   "metadata": {
    "execution": {
     "iopub.execute_input": "2025-06-12T10:30:08.222972Z",
     "iopub.status.busy": "2025-06-12T10:30:08.222668Z",
     "iopub.status.idle": "2025-06-12T10:30:08.230529Z",
     "shell.execute_reply": "2025-06-12T10:30:08.229553Z"
    },
    "papermill": {
     "duration": 0.013601,
     "end_time": "2025-06-12T10:30:08.232131",
     "exception": false,
     "start_time": "2025-06-12T10:30:08.218530",
     "status": "completed"
    },
    "tags": []
   },
   "outputs": [
    {
     "name": "stdout",
     "output_type": "stream",
     "text": [
      "Pyhton Array Multiplication [2 4 6]\n"
     ]
    }
   ],
   "source": [
    "np_array = np.array([1, 2, 3]) #here element wise multiplication happen\n",
    "print(\"Pyhton Array Multiplication\", np_array*2)"
   ]
  },
  {
   "cell_type": "code",
   "execution_count": 6,
   "id": "d5828dae",
   "metadata": {
    "execution": {
     "iopub.execute_input": "2025-06-12T10:30:08.241447Z",
     "iopub.status.busy": "2025-06-12T10:30:08.240064Z",
     "iopub.status.idle": "2025-06-12T10:30:08.334928Z",
     "shell.execute_reply": "2025-06-12T10:30:08.333662Z"
    },
    "papermill": {
     "duration": 0.101082,
     "end_time": "2025-06-12T10:30:08.336662",
     "exception": false,
     "start_time": "2025-06-12T10:30:08.235580",
     "status": "completed"
    },
    "tags": []
   },
   "outputs": [
    {
     "name": "stdout",
     "output_type": "stream",
     "text": [
      "Python list Multiplication [1, 2, 3, 1, 2, 3]\n",
      "Pyhton Array Multiplication [2 4 6]\n",
      "\n",
      " List operation time: 0.07915830612182617\n",
      "\n",
      " Numpy operation time: 0.008092880249023438\n"
     ]
    }
   ],
   "source": [
    "py_list = [1, 2, 3]\n",
    "print(\"Python list Multiplication\", py_list*2)\n",
    "\n",
    "\n",
    "np_array = np.array([1, 2, 3]) #here element wise multiplication happen\n",
    "print(\"Pyhton Array Multiplication\", np_array*2)\n",
    "\n",
    "\n",
    "\n",
    "import time \n",
    "start = time.time()\n",
    "py_list = [i*2 for i in range (1000000)]\n",
    "print(\"\\n List operation time:\", time.time() - start)\n",
    "\n",
    "start = time.time()\n",
    "np_array = np.arange(1000000) * 2\n",
    "print(\"\\n Numpy operation time:\", time.time() - start)"
   ]
  },
  {
   "cell_type": "markdown",
   "id": "26f23f75",
   "metadata": {
    "papermill": {
     "duration": 0.00322,
     "end_time": "2025-06-12T10:30:08.343379",
     "exception": false,
     "start_time": "2025-06-12T10:30:08.340159",
     "status": "completed"
    },
    "tags": []
   },
   "source": [
    "### Creating Array from Scratch"
   ]
  },
  {
   "cell_type": "code",
   "execution_count": 7,
   "id": "6af81748",
   "metadata": {
    "execution": {
     "iopub.execute_input": "2025-06-12T10:30:08.351730Z",
     "iopub.status.busy": "2025-06-12T10:30:08.351417Z",
     "iopub.status.idle": "2025-06-12T10:30:08.358810Z",
     "shell.execute_reply": "2025-06-12T10:30:08.357803Z"
    },
    "papermill": {
     "duration": 0.013481,
     "end_time": "2025-06-12T10:30:08.360239",
     "exception": false,
     "start_time": "2025-06-12T10:30:08.346758",
     "status": "completed"
    },
    "tags": []
   },
   "outputs": [
    {
     "name": "stdout",
     "output_type": "stream",
     "text": [
      "zeros array: \n",
      " [[0. 0. 0. 0.]\n",
      " [0. 0. 0. 0.]\n",
      " [0. 0. 0. 0.]]\n",
      "ones array: \n",
      " [[1. 1. 1.]\n",
      " [1. 1. 1.]]\n",
      "full array: \n",
      " [[7 7]\n",
      " [7 7]]\n",
      "random array: \n",
      " [[0.58610345 0.39914719 0.3652639 ]\n",
      " [0.15328999 0.99143526 0.9700111 ]]\n"
     ]
    }
   ],
   "source": [
    "zeros = np.zeros((3,4))\n",
    "print(\"zeros array: \\n\", zeros)\n",
    "\n",
    "ones = np.ones((2,3))\n",
    "print(\"ones array: \\n\", ones)\n",
    "\n",
    "full = np.full((2, 2), 7)\n",
    "print(\"full array: \\n\", full)\n",
    "\n",
    "random = np.random.random((2,3))\n",
    "print(\"random array: \\n\", random)\n"
   ]
  },
  {
   "cell_type": "code",
   "execution_count": 8,
   "id": "26294e30",
   "metadata": {
    "execution": {
     "iopub.execute_input": "2025-06-12T10:30:08.368562Z",
     "iopub.status.busy": "2025-06-12T10:30:08.368207Z",
     "iopub.status.idle": "2025-06-12T10:30:08.373914Z",
     "shell.execute_reply": "2025-06-12T10:30:08.372927Z"
    },
    "papermill": {
     "duration": 0.011712,
     "end_time": "2025-06-12T10:30:08.375502",
     "exception": false,
     "start_time": "2025-06-12T10:30:08.363790",
     "status": "completed"
    },
    "tags": []
   },
   "outputs": [
    {
     "name": "stdout",
     "output_type": "stream",
     "text": [
      "sequence array: \n",
      " [0 2 4 6 8]\n"
     ]
    }
   ],
   "source": [
    "sequence = np.arange(0, 10, 2)\n",
    "print(\"sequence array: \\n\", sequence)"
   ]
  },
  {
   "cell_type": "markdown",
   "id": "fb76ad46",
   "metadata": {
    "papermill": {
     "duration": 0.003397,
     "end_time": "2025-06-12T10:30:08.382979",
     "exception": false,
     "start_time": "2025-06-12T10:30:08.379582",
     "status": "completed"
    },
    "tags": []
   },
   "source": [
    "### Vector, Matrix and Tensor"
   ]
  },
  {
   "cell_type": "code",
   "execution_count": 9,
   "id": "71436b73",
   "metadata": {
    "execution": {
     "iopub.execute_input": "2025-06-12T10:30:08.391499Z",
     "iopub.status.busy": "2025-06-12T10:30:08.391132Z",
     "iopub.status.idle": "2025-06-12T10:30:08.398955Z",
     "shell.execute_reply": "2025-06-12T10:30:08.397793Z"
    },
    "papermill": {
     "duration": 0.014039,
     "end_time": "2025-06-12T10:30:08.400610",
     "exception": false,
     "start_time": "2025-06-12T10:30:08.386571",
     "status": "completed"
    },
    "tags": []
   },
   "outputs": [
    {
     "name": "stdout",
     "output_type": "stream",
     "text": [
      "Vector: \n",
      " [1 2 3]\n",
      "Matrix: \n",
      " [[1 2 3]\n",
      " [4 5 6]]\n",
      "Tensor: \n",
      " [[[1 2]\n",
      "  [3 4]]\n",
      "\n",
      " [[5 6]\n",
      "  [7 8]]]\n"
     ]
    }
   ],
   "source": [
    "vector = np.array([1, 2, 3])\n",
    "print(\"Vector: \\n\", vector)\n",
    "\n",
    "\n",
    "\n",
    "matrix = np.array([[1, 2, 3],\n",
    "                  [4, 5, 6]])\n",
    "print(\"Matrix: \\n\", matrix)\n",
    "\n",
    "\n",
    "tensor =np.array([[[1, 2],[3, 4]],\n",
    "                 [[5, 6], [7,8]]])\n",
    "print(\"Tensor: \\n\", tensor)\n",
    "\n"
   ]
  },
  {
   "cell_type": "markdown",
   "id": "7e8945ff",
   "metadata": {
    "papermill": {
     "duration": 0.003406,
     "end_time": "2025-06-12T10:30:08.407933",
     "exception": false,
     "start_time": "2025-06-12T10:30:08.404527",
     "status": "completed"
    },
    "tags": []
   },
   "source": [
    "### Array Properties"
   ]
  },
  {
   "cell_type": "code",
   "execution_count": null,
   "id": "64540cf2",
   "metadata": {
    "papermill": {
     "duration": 0.003918,
     "end_time": "2025-06-12T10:30:08.415802",
     "exception": false,
     "start_time": "2025-06-12T10:30:08.411884",
     "status": "completed"
    },
    "tags": []
   },
   "outputs": [],
   "source": []
  }
 ],
 "metadata": {
  "kaggle": {
   "accelerator": "none",
   "dataSources": [],
   "dockerImageVersionId": 31040,
   "isGpuEnabled": false,
   "isInternetEnabled": true,
   "language": "python",
   "sourceType": "notebook"
  },
  "kernelspec": {
   "display_name": "Python 3",
   "language": "python",
   "name": "python3"
  },
  "language_info": {
   "codemirror_mode": {
    "name": "ipython",
    "version": 3
   },
   "file_extension": ".py",
   "mimetype": "text/x-python",
   "name": "python",
   "nbconvert_exporter": "python",
   "pygments_lexer": "ipython3",
   "version": "3.11.11"
  },
  "papermill": {
   "default_parameters": {},
   "duration": 5.869802,
   "end_time": "2025-06-12T10:30:08.840773",
   "environment_variables": {},
   "exception": null,
   "input_path": "__notebook__.ipynb",
   "output_path": "__notebook__.ipynb",
   "parameters": {},
   "start_time": "2025-06-12T10:30:02.970971",
   "version": "2.6.0"
  }
 },
 "nbformat": 4,
 "nbformat_minor": 5
}
