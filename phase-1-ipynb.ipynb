{
 "cells": [
  {
   "cell_type": "markdown",
   "id": "d971cd33",
   "metadata": {
    "papermill": {
     "duration": 0.003613,
     "end_time": "2025-06-12T10:40:45.663536",
     "exception": false,
     "start_time": "2025-06-12T10:40:45.659923",
     "status": "completed"
    },
    "tags": []
   },
   "source": [
    "## Numpy array and basics\n",
    "Learn about numpy with chai aur code"
   ]
  },
  {
   "cell_type": "code",
   "execution_count": 1,
   "id": "033070e4",
   "metadata": {
    "execution": {
     "iopub.execute_input": "2025-06-12T10:40:45.670794Z",
     "iopub.status.busy": "2025-06-12T10:40:45.670503Z",
     "iopub.status.idle": "2025-06-12T10:40:45.677662Z",
     "shell.execute_reply": "2025-06-12T10:40:45.676874Z"
    },
    "papermill": {
     "duration": 0.012245,
     "end_time": "2025-06-12T10:40:45.679004",
     "exception": false,
     "start_time": "2025-06-12T10:40:45.666759",
     "status": "completed"
    },
    "tags": []
   },
   "outputs": [],
   "source": [
    "import numpy as np"
   ]
  },
  {
   "cell_type": "markdown",
   "id": "0f29dbf8",
   "metadata": {
    "papermill": {
     "duration": 0.00259,
     "end_time": "2025-06-12T10:40:45.684695",
     "exception": false,
     "start_time": "2025-06-12T10:40:45.682105",
     "status": "completed"
    },
    "tags": []
   },
   "source": [
    "### creating array from list"
   ]
  },
  {
   "cell_type": "code",
   "execution_count": 2,
   "id": "82345256",
   "metadata": {
    "execution": {
     "iopub.execute_input": "2025-06-12T10:40:45.691538Z",
     "iopub.status.busy": "2025-06-12T10:40:45.691179Z",
     "iopub.status.idle": "2025-06-12T10:40:45.697972Z",
     "shell.execute_reply": "2025-06-12T10:40:45.696979Z"
    },
    "papermill": {
     "duration": 0.011837,
     "end_time": "2025-06-12T10:40:45.699384",
     "exception": false,
     "start_time": "2025-06-12T10:40:45.687547",
     "status": "completed"
    },
    "tags": []
   },
   "outputs": [
    {
     "name": "stdout",
     "output_type": "stream",
     "text": [
      "1D Array: [1 2 3 4 5]\n"
     ]
    }
   ],
   "source": [
    "arr_1d = np.array([1, 2, 3, 4, 5])\n",
    "print(\"1D Array:\", arr_1d)"
   ]
  },
  {
   "cell_type": "code",
   "execution_count": 3,
   "id": "22914c5b",
   "metadata": {
    "execution": {
     "iopub.execute_input": "2025-06-12T10:40:45.707104Z",
     "iopub.status.busy": "2025-06-12T10:40:45.706303Z",
     "iopub.status.idle": "2025-06-12T10:40:45.711772Z",
     "shell.execute_reply": "2025-06-12T10:40:45.710843Z"
    },
    "papermill": {
     "duration": 0.010668,
     "end_time": "2025-06-12T10:40:45.713216",
     "exception": false,
     "start_time": "2025-06-12T10:40:45.702548",
     "status": "completed"
    },
    "tags": []
   },
   "outputs": [
    {
     "name": "stdout",
     "output_type": "stream",
     "text": [
      "2D Array: [[1 2 3]\n",
      " [4 5 6]]\n"
     ]
    }
   ],
   "source": [
    "arr_2d = np.array([[1, 2, 3], [4, 5, 6]])\n",
    "print(\"2D Array:\", arr_2d)"
   ]
  },
  {
   "cell_type": "markdown",
   "id": "c6c070d6",
   "metadata": {
    "papermill": {
     "duration": 0.002836,
     "end_time": "2025-06-12T10:40:45.719231",
     "exception": false,
     "start_time": "2025-06-12T10:40:45.716395",
     "status": "completed"
    },
    "tags": []
   },
   "source": [
    "numpy optimised hi isliy hai kyoki vo similar data-types par work karta hai"
   ]
  },
  {
   "cell_type": "markdown",
   "id": "6d9ae665",
   "metadata": {
    "papermill": {
     "duration": 0.002736,
     "end_time": "2025-06-12T10:40:45.724926",
     "exception": false,
     "start_time": "2025-06-12T10:40:45.722190",
     "status": "completed"
    },
    "tags": []
   },
   "source": [
    "### List vs numpy array"
   ]
  },
  {
   "cell_type": "code",
   "execution_count": 4,
   "id": "74a58cd6",
   "metadata": {
    "execution": {
     "iopub.execute_input": "2025-06-12T10:40:45.732146Z",
     "iopub.status.busy": "2025-06-12T10:40:45.731835Z",
     "iopub.status.idle": "2025-06-12T10:40:45.736591Z",
     "shell.execute_reply": "2025-06-12T10:40:45.735623Z"
    },
    "papermill": {
     "duration": 0.010044,
     "end_time": "2025-06-12T10:40:45.737898",
     "exception": false,
     "start_time": "2025-06-12T10:40:45.727854",
     "status": "completed"
    },
    "tags": []
   },
   "outputs": [
    {
     "name": "stdout",
     "output_type": "stream",
     "text": [
      "Python list Multiplication [1, 2, 3, 1, 2, 3]\n"
     ]
    }
   ],
   "source": [
    "py_list = [1, 2, 3]\n",
    "print(\"Python list Multiplication\", py_list*2)"
   ]
  },
  {
   "cell_type": "code",
   "execution_count": 5,
   "id": "651743e1",
   "metadata": {
    "execution": {
     "iopub.execute_input": "2025-06-12T10:40:45.745165Z",
     "iopub.status.busy": "2025-06-12T10:40:45.744872Z",
     "iopub.status.idle": "2025-06-12T10:40:45.751440Z",
     "shell.execute_reply": "2025-06-12T10:40:45.750559Z"
    },
    "papermill": {
     "duration": 0.011658,
     "end_time": "2025-06-12T10:40:45.752701",
     "exception": false,
     "start_time": "2025-06-12T10:40:45.741043",
     "status": "completed"
    },
    "tags": []
   },
   "outputs": [
    {
     "name": "stdout",
     "output_type": "stream",
     "text": [
      "Pyhton Array Multiplication [2 4 6]\n"
     ]
    }
   ],
   "source": [
    "np_array = np.array([1, 2, 3]) #here element wise multiplication happen\n",
    "print(\"Pyhton Array Multiplication\", np_array*2)"
   ]
  },
  {
   "cell_type": "code",
   "execution_count": 6,
   "id": "ca4f9e7e",
   "metadata": {
    "execution": {
     "iopub.execute_input": "2025-06-12T10:40:45.760121Z",
     "iopub.status.busy": "2025-06-12T10:40:45.759846Z",
     "iopub.status.idle": "2025-06-12T10:40:45.851263Z",
     "shell.execute_reply": "2025-06-12T10:40:45.850181Z"
    },
    "papermill": {
     "duration": 0.096688,
     "end_time": "2025-06-12T10:40:45.852695",
     "exception": false,
     "start_time": "2025-06-12T10:40:45.756007",
     "status": "completed"
    },
    "tags": []
   },
   "outputs": [
    {
     "name": "stdout",
     "output_type": "stream",
     "text": [
      "Python list Multiplication [1, 2, 3, 1, 2, 3]\n",
      "Pyhton Array Multiplication [2 4 6]\n",
      "\n",
      " List operation time: 0.07666897773742676\n",
      "\n",
      " Numpy operation time: 0.008646011352539062\n"
     ]
    }
   ],
   "source": [
    "py_list = [1, 2, 3]\n",
    "print(\"Python list Multiplication\", py_list*2)\n",
    "\n",
    "\n",
    "np_array = np.array([1, 2, 3]) #here element wise multiplication happen\n",
    "print(\"Pyhton Array Multiplication\", np_array*2)\n",
    "\n",
    "\n",
    "\n",
    "import time \n",
    "start = time.time()\n",
    "py_list = [i*2 for i in range (1000000)]\n",
    "print(\"\\n List operation time:\", time.time() - start)\n",
    "\n",
    "start = time.time()\n",
    "np_array = np.arange(1000000) * 2\n",
    "print(\"\\n Numpy operation time:\", time.time() - start)"
   ]
  },
  {
   "cell_type": "markdown",
   "id": "5edff614",
   "metadata": {
    "papermill": {
     "duration": 0.002983,
     "end_time": "2025-06-12T10:40:45.859056",
     "exception": false,
     "start_time": "2025-06-12T10:40:45.856073",
     "status": "completed"
    },
    "tags": []
   },
   "source": [
    "### Creating Array from Scratch"
   ]
  },
  {
   "cell_type": "code",
   "execution_count": 7,
   "id": "8308f522",
   "metadata": {
    "execution": {
     "iopub.execute_input": "2025-06-12T10:40:45.866981Z",
     "iopub.status.busy": "2025-06-12T10:40:45.866362Z",
     "iopub.status.idle": "2025-06-12T10:40:45.872995Z",
     "shell.execute_reply": "2025-06-12T10:40:45.872025Z"
    },
    "papermill": {
     "duration": 0.012102,
     "end_time": "2025-06-12T10:40:45.874478",
     "exception": false,
     "start_time": "2025-06-12T10:40:45.862376",
     "status": "completed"
    },
    "tags": []
   },
   "outputs": [
    {
     "name": "stdout",
     "output_type": "stream",
     "text": [
      "zeros array: \n",
      " [[0. 0. 0. 0.]\n",
      " [0. 0. 0. 0.]\n",
      " [0. 0. 0. 0.]]\n",
      "ones array: \n",
      " [[1. 1. 1.]\n",
      " [1. 1. 1.]]\n",
      "full array: \n",
      " [[7 7]\n",
      " [7 7]]\n",
      "random array: \n",
      " [[0.36120347 0.780813   0.72946272]\n",
      " [0.23640043 0.9900794  0.04226   ]]\n"
     ]
    }
   ],
   "source": [
    "zeros = np.zeros((3,4))\n",
    "print(\"zeros array: \\n\", zeros)\n",
    "\n",
    "ones = np.ones((2,3))\n",
    "print(\"ones array: \\n\", ones)\n",
    "\n",
    "full = np.full((2, 2), 7)\n",
    "print(\"full array: \\n\", full)\n",
    "\n",
    "random = np.random.random((2,3))\n",
    "print(\"random array: \\n\", random)\n"
   ]
  },
  {
   "cell_type": "code",
   "execution_count": 8,
   "id": "306bb05d",
   "metadata": {
    "execution": {
     "iopub.execute_input": "2025-06-12T10:40:45.882318Z",
     "iopub.status.busy": "2025-06-12T10:40:45.881991Z",
     "iopub.status.idle": "2025-06-12T10:40:45.887213Z",
     "shell.execute_reply": "2025-06-12T10:40:45.886575Z"
    },
    "papermill": {
     "duration": 0.010567,
     "end_time": "2025-06-12T10:40:45.888524",
     "exception": false,
     "start_time": "2025-06-12T10:40:45.877957",
     "status": "completed"
    },
    "tags": []
   },
   "outputs": [
    {
     "name": "stdout",
     "output_type": "stream",
     "text": [
      "sequence array: \n",
      " [0 2 4 6 8]\n"
     ]
    }
   ],
   "source": [
    "sequence = np.arange(0, 10, 2)\n",
    "print(\"sequence array: \\n\", sequence)"
   ]
  },
  {
   "cell_type": "markdown",
   "id": "f24c720b",
   "metadata": {
    "papermill": {
     "duration": 0.003138,
     "end_time": "2025-06-12T10:40:45.895209",
     "exception": false,
     "start_time": "2025-06-12T10:40:45.892071",
     "status": "completed"
    },
    "tags": []
   },
   "source": [
    "### Vector, Matrix and Tensor"
   ]
  },
  {
   "cell_type": "code",
   "execution_count": 9,
   "id": "d0fc3f5d",
   "metadata": {
    "execution": {
     "iopub.execute_input": "2025-06-12T10:40:45.903586Z",
     "iopub.status.busy": "2025-06-12T10:40:45.902691Z",
     "iopub.status.idle": "2025-06-12T10:40:45.908979Z",
     "shell.execute_reply": "2025-06-12T10:40:45.908201Z"
    },
    "papermill": {
     "duration": 0.011801,
     "end_time": "2025-06-12T10:40:45.910352",
     "exception": false,
     "start_time": "2025-06-12T10:40:45.898551",
     "status": "completed"
    },
    "tags": []
   },
   "outputs": [
    {
     "name": "stdout",
     "output_type": "stream",
     "text": [
      "Vector: \n",
      " [1 2 3]\n",
      "Matrix: \n",
      " [[1 2 3]\n",
      " [4 5 6]]\n",
      "Tensor: \n",
      " [[[1 2]\n",
      "  [3 4]]\n",
      "\n",
      " [[5 6]\n",
      "  [7 8]]]\n"
     ]
    }
   ],
   "source": [
    "vector = np.array([1, 2, 3])\n",
    "print(\"Vector: \\n\", vector)\n",
    "\n",
    "\n",
    "\n",
    "matrix = np.array([[1, 2, 3],\n",
    "                  [4, 5, 6]])\n",
    "print(\"Matrix: \\n\", matrix)\n",
    "\n",
    "\n",
    "tensor =np.array([[[1, 2],[3, 4]],\n",
    "                 [[5, 6], [7,8]]])\n",
    "print(\"Tensor: \\n\", tensor)\n",
    "\n"
   ]
  },
  {
   "cell_type": "markdown",
   "id": "7c813d3d",
   "metadata": {
    "papermill": {
     "duration": 0.003306,
     "end_time": "2025-06-12T10:40:45.917232",
     "exception": false,
     "start_time": "2025-06-12T10:40:45.913926",
     "status": "completed"
    },
    "tags": []
   },
   "source": [
    "### Array Properties"
   ]
  },
  {
   "cell_type": "code",
   "execution_count": 10,
   "id": "a9eb111b",
   "metadata": {
    "execution": {
     "iopub.execute_input": "2025-06-12T10:40:45.925584Z",
     "iopub.status.busy": "2025-06-12T10:40:45.924813Z",
     "iopub.status.idle": "2025-06-12T10:40:45.930323Z",
     "shell.execute_reply": "2025-06-12T10:40:45.929482Z"
    },
    "papermill": {
     "duration": 0.011004,
     "end_time": "2025-06-12T10:40:45.931694",
     "exception": false,
     "start_time": "2025-06-12T10:40:45.920690",
     "status": "completed"
    },
    "tags": []
   },
   "outputs": [
    {
     "name": "stdout",
     "output_type": "stream",
     "text": [
      "Shape: \n",
      " (2, 3)\n",
      "Dimention: \n",
      " 2\n",
      "Size: \n",
      " 6\n",
      "DType \n",
      " int64\n"
     ]
    }
   ],
   "source": [
    "arr = np.array([[1, 2, 3],\n",
    "               [4, 5, 6]])\n",
    "print(\"Shape: \\n\", arr.shape)\n",
    "print(\"Dimention: \\n\", arr.ndim)\n",
    "print(\"Size: \\n\", arr.size)\n",
    "print(\"DType \\n\", arr.dtype)\n"
   ]
  },
  {
   "cell_type": "markdown",
   "id": "4603b7ad",
   "metadata": {
    "papermill": {
     "duration": 0.003209,
     "end_time": "2025-06-12T10:40:45.938664",
     "exception": false,
     "start_time": "2025-06-12T10:40:45.935455",
     "status": "completed"
    },
    "tags": []
   },
   "source": [
    "### Array Reshaping"
   ]
  },
  {
   "cell_type": "code",
   "execution_count": 11,
   "id": "56f2bf96",
   "metadata": {
    "execution": {
     "iopub.execute_input": "2025-06-12T10:40:45.946535Z",
     "iopub.status.busy": "2025-06-12T10:40:45.946213Z",
     "iopub.status.idle": "2025-06-12T10:40:45.950930Z",
     "shell.execute_reply": "2025-06-12T10:40:45.950280Z"
    },
    "papermill": {
     "duration": 0.010019,
     "end_time": "2025-06-12T10:40:45.952061",
     "exception": false,
     "start_time": "2025-06-12T10:40:45.942042",
     "status": "completed"
    },
    "tags": []
   },
   "outputs": [
    {
     "name": "stdout",
     "output_type": "stream",
     "text": [
      "Original Array  [[1 2 3]\n",
      " [4 5 6]]\n"
     ]
    }
   ],
   "source": [
    "array = np.arange(12)\n",
    "print(\"Original Array \", arr)"
   ]
  }
 ],
 "metadata": {
  "kaggle": {
   "accelerator": "none",
   "dataSources": [],
   "dockerImageVersionId": 31040,
   "isGpuEnabled": false,
   "isInternetEnabled": true,
   "language": "python",
   "sourceType": "notebook"
  },
  "kernelspec": {
   "display_name": "Python 3",
   "language": "python",
   "name": "python3"
  },
  "language_info": {
   "codemirror_mode": {
    "name": "ipython",
    "version": 3
   },
   "file_extension": ".py",
   "mimetype": "text/x-python",
   "name": "python",
   "nbconvert_exporter": "python",
   "pygments_lexer": "ipython3",
   "version": "3.11.11"
  },
  "papermill": {
   "default_parameters": {},
   "duration": 5.495433,
   "end_time": "2025-06-12T10:40:46.375384",
   "environment_variables": {},
   "exception": null,
   "input_path": "__notebook__.ipynb",
   "output_path": "__notebook__.ipynb",
   "parameters": {},
   "start_time": "2025-06-12T10:40:40.879951",
   "version": "2.6.0"
  }
 },
 "nbformat": 4,
 "nbformat_minor": 5
}
