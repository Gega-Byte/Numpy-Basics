{
 "cells": [
  {
   "cell_type": "markdown",
   "id": "6511f0b2",
   "metadata": {
    "papermill": {
     "duration": 0.003787,
     "end_time": "2025-06-12T10:04:22.608011",
     "exception": false,
     "start_time": "2025-06-12T10:04:22.604224",
     "status": "completed"
    },
    "tags": []
   },
   "source": [
    "## Numpy array and basics\n",
    "Learn about numpy with chai aur code"
   ]
  },
  {
   "cell_type": "code",
   "execution_count": 1,
   "id": "1beb17b7",
   "metadata": {
    "execution": {
     "iopub.execute_input": "2025-06-12T10:04:22.614986Z",
     "iopub.status.busy": "2025-06-12T10:04:22.614614Z",
     "iopub.status.idle": "2025-06-12T10:04:22.622591Z",
     "shell.execute_reply": "2025-06-12T10:04:22.621598Z"
    },
    "papermill": {
     "duration": 0.013107,
     "end_time": "2025-06-12T10:04:22.624226",
     "exception": false,
     "start_time": "2025-06-12T10:04:22.611119",
     "status": "completed"
    },
    "tags": []
   },
   "outputs": [],
   "source": [
    "import numpy as np"
   ]
  },
  {
   "cell_type": "markdown",
   "id": "3d44172b",
   "metadata": {
    "papermill": {
     "duration": 0.002434,
     "end_time": "2025-06-12T10:04:22.629520",
     "exception": false,
     "start_time": "2025-06-12T10:04:22.627086",
     "status": "completed"
    },
    "tags": []
   },
   "source": [
    "### creating array from list"
   ]
  },
  {
   "cell_type": "code",
   "execution_count": 2,
   "id": "88f92117",
   "metadata": {
    "execution": {
     "iopub.execute_input": "2025-06-12T10:04:22.635464Z",
     "iopub.status.busy": "2025-06-12T10:04:22.635146Z",
     "iopub.status.idle": "2025-06-12T10:04:22.642916Z",
     "shell.execute_reply": "2025-06-12T10:04:22.641849Z"
    },
    "papermill": {
     "duration": 0.01286,
     "end_time": "2025-06-12T10:04:22.644729",
     "exception": false,
     "start_time": "2025-06-12T10:04:22.631869",
     "status": "completed"
    },
    "tags": []
   },
   "outputs": [
    {
     "name": "stdout",
     "output_type": "stream",
     "text": [
      "1D Array: [1 2 3 4 5]\n"
     ]
    }
   ],
   "source": [
    "arr_1d = np.array([1, 2, 3, 4, 5])\n",
    "print(\"1D Array:\", arr_1d)"
   ]
  },
  {
   "cell_type": "code",
   "execution_count": 3,
   "id": "107f344b",
   "metadata": {
    "execution": {
     "iopub.execute_input": "2025-06-12T10:04:22.651256Z",
     "iopub.status.busy": "2025-06-12T10:04:22.650931Z",
     "iopub.status.idle": "2025-06-12T10:04:22.656637Z",
     "shell.execute_reply": "2025-06-12T10:04:22.655535Z"
    },
    "papermill": {
     "duration": 0.010796,
     "end_time": "2025-06-12T10:04:22.658230",
     "exception": false,
     "start_time": "2025-06-12T10:04:22.647434",
     "status": "completed"
    },
    "tags": []
   },
   "outputs": [
    {
     "name": "stdout",
     "output_type": "stream",
     "text": [
      "2D Array: [[1 2 3]\n",
      " [4 5 6]]\n"
     ]
    }
   ],
   "source": [
    "arr_2d = np.array([[1, 2, 3], [4, 5, 6]])\n",
    "print(\"2D Array:\", arr_2d)"
   ]
  },
  {
   "cell_type": "markdown",
   "id": "3d8d2af4",
   "metadata": {
    "papermill": {
     "duration": 0.002404,
     "end_time": "2025-06-12T10:04:22.663195",
     "exception": false,
     "start_time": "2025-06-12T10:04:22.660791",
     "status": "completed"
    },
    "tags": []
   },
   "source": [
    "numpy optimised hi isliy hai kyoki vo similar data-types par work karta hai"
   ]
  },
  {
   "cell_type": "markdown",
   "id": "97c7ad44",
   "metadata": {
    "papermill": {
     "duration": 0.002095,
     "end_time": "2025-06-12T10:04:22.667710",
     "exception": false,
     "start_time": "2025-06-12T10:04:22.665615",
     "status": "completed"
    },
    "tags": []
   },
   "source": [
    "### List vs numpy array"
   ]
  },
  {
   "cell_type": "code",
   "execution_count": 4,
   "id": "b6477492",
   "metadata": {
    "execution": {
     "iopub.execute_input": "2025-06-12T10:04:22.674759Z",
     "iopub.status.busy": "2025-06-12T10:04:22.673424Z",
     "iopub.status.idle": "2025-06-12T10:04:22.679424Z",
     "shell.execute_reply": "2025-06-12T10:04:22.678553Z"
    },
    "papermill": {
     "duration": 0.01077,
     "end_time": "2025-06-12T10:04:22.680832",
     "exception": false,
     "start_time": "2025-06-12T10:04:22.670062",
     "status": "completed"
    },
    "tags": []
   },
   "outputs": [
    {
     "name": "stdout",
     "output_type": "stream",
     "text": [
      "Python list Multiplication [1, 2, 3, 1, 2, 3]\n"
     ]
    }
   ],
   "source": [
    "py_list = [1, 2, 3]\n",
    "print(\"Python list Multiplication\", py_list*2)"
   ]
  },
  {
   "cell_type": "code",
   "execution_count": 5,
   "id": "586b69e5",
   "metadata": {
    "execution": {
     "iopub.execute_input": "2025-06-12T10:04:22.687230Z",
     "iopub.status.busy": "2025-06-12T10:04:22.686917Z",
     "iopub.status.idle": "2025-06-12T10:04:22.694491Z",
     "shell.execute_reply": "2025-06-12T10:04:22.693155Z"
    },
    "papermill": {
     "duration": 0.012621,
     "end_time": "2025-06-12T10:04:22.696098",
     "exception": false,
     "start_time": "2025-06-12T10:04:22.683477",
     "status": "completed"
    },
    "tags": []
   },
   "outputs": [
    {
     "name": "stdout",
     "output_type": "stream",
     "text": [
      "Pyhton Array Multiplication [2 4 6]\n"
     ]
    }
   ],
   "source": [
    "np_array = np.array([1, 2, 3]) #here element wise multiplication happen\n",
    "print(\"Pyhton Array Multiplication\", np_array*2)"
   ]
  },
  {
   "cell_type": "code",
   "execution_count": 6,
   "id": "13ddc67b",
   "metadata": {
    "execution": {
     "iopub.execute_input": "2025-06-12T10:04:22.702552Z",
     "iopub.status.busy": "2025-06-12T10:04:22.702231Z",
     "iopub.status.idle": "2025-06-12T10:04:22.797332Z",
     "shell.execute_reply": "2025-06-12T10:04:22.796068Z"
    },
    "papermill": {
     "duration": 0.100208,
     "end_time": "2025-06-12T10:04:22.798948",
     "exception": false,
     "start_time": "2025-06-12T10:04:22.698740",
     "status": "completed"
    },
    "tags": []
   },
   "outputs": [
    {
     "name": "stdout",
     "output_type": "stream",
     "text": [
      "Python list Multiplication [1, 2, 3, 1, 2, 3]\n",
      "Pyhton Array Multiplication [2 4 6]\n",
      "\n",
      " List operation time: 0.07909178733825684\n",
      "\n",
      " Numpy operation time: 0.00922846794128418\n"
     ]
    }
   ],
   "source": [
    "py_list = [1, 2, 3]\n",
    "print(\"Python list Multiplication\", py_list*2)\n",
    "\n",
    "\n",
    "np_array = np.array([1, 2, 3]) #here element wise multiplication happen\n",
    "print(\"Pyhton Array Multiplication\", np_array*2)\n",
    "\n",
    "\n",
    "\n",
    "import time \n",
    "start = time.time()\n",
    "py_list = [i*2 for i in range (1000000)]\n",
    "print(\"\\n List operation time:\", time.time() - start)\n",
    "\n",
    "start = time.time()\n",
    "np_array = np.arange(1000000) * 2\n",
    "print(\"\\n Numpy operation time:\", time.time() - start)"
   ]
  }
 ],
 "metadata": {
  "kaggle": {
   "accelerator": "none",
   "dataSources": [],
   "dockerImageVersionId": 31040,
   "isGpuEnabled": false,
   "isInternetEnabled": true,
   "language": "python",
   "sourceType": "notebook"
  },
  "kernelspec": {
   "display_name": "Python 3",
   "language": "python",
   "name": "python3"
  },
  "language_info": {
   "codemirror_mode": {
    "name": "ipython",
    "version": 3
   },
   "file_extension": ".py",
   "mimetype": "text/x-python",
   "name": "python",
   "nbconvert_exporter": "python",
   "pygments_lexer": "ipython3",
   "version": "3.11.11"
  },
  "papermill": {
   "default_parameters": {},
   "duration": 6.745481,
   "end_time": "2025-06-12T10:04:23.323999",
   "environment_variables": {},
   "exception": null,
   "input_path": "__notebook__.ipynb",
   "output_path": "__notebook__.ipynb",
   "parameters": {},
   "start_time": "2025-06-12T10:04:16.578518",
   "version": "2.6.0"
  }
 },
 "nbformat": 4,
 "nbformat_minor": 5
}
